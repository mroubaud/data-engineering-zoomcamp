{
 "cells": [
  {
   "cell_type": "markdown",
   "id": "2ae6784a",
   "metadata": {},
   "source": [
    "## Question 1:\n",
    "What happens when we execute dbt build --vars '{'is_test_run':'true'}' You'll need to have completed the \"Build the first dbt models\" video.\n",
    "\n",
    "* It's the same as running dbt build\n",
    "* It applies a limit 100 to all of our models\n",
    "* **It applies a limit 100 only to our staging models**\n",
    "* Nothing"
   ]
  },
  {
   "cell_type": "markdown",
   "id": "9b955cbe",
   "metadata": {},
   "source": [
    "## Question 2:\n",
    "What is the code that our CI job will run?\n",
    "\n",
    "* The code that has been merged into the main branch\n",
    "* **The code that is behind the object on the dbt_cloud_pr_ schema**\n",
    "* The code from any development branch that has been opened based on main\n",
    "* The code from a development branch requesting a merge to main"
   ]
  },
  {
   "cell_type": "markdown",
   "id": "91ab4d89",
   "metadata": {},
   "source": [
    "## Question 3\n",
    "\n",
    "What is the count of records in the model fact_fhv_trips after running all dependencies with the test run variable disabled (:false)?\n",
    "Create a staging model for the fhv data, similar to the ones made for yellow and green data. Add an additional filter for keeping only records with pickup time in year 2019. Do not add a deduplication step. Run this models without limits (is_test_run: false).\n",
    "\n",
    "Create a core model similar to fact trips, but selecting from stg_fhv_tripdata and joining with dim_zones. Similar to what we've done in fact_trips, keep only records with known pickup and dropoff locations entries for pickup and dropoff locations. Run the dbt model without limits (is_test_run: false).\n",
    "\n",
    "* 12998722\n",
    "* 22998722\n",
    "* 32998722\n",
    "* **42998722**"
   ]
  },
  {
   "cell_type": "markdown",
   "id": "7d7c15d0",
   "metadata": {},
   "source": [
    "## Question 4 (2 points)\n",
    "What is the service that had the most rides during the month of July 2019 month with the biggest amount of rides after building a tile for the fact_fhv_trips table?\n",
    "\n",
    "Create a dashboard with some tiles that you find interesting to explore the data. One tile should show the amount of trips per month, as done in the videos for fact_trips, including the fact_fhv_trips data.\n",
    "\n",
    "* FHV\n",
    "* Green\n",
    "* **Yellow**\n",
    "* FHV and Green"
   ]
  },
  {
   "cell_type": "code",
   "execution_count": null,
   "id": "404bde3f",
   "metadata": {},
   "outputs": [],
   "source": []
  }
 ],
 "metadata": {
  "kernelspec": {
   "display_name": "Python 3 (ipykernel)",
   "language": "python",
   "name": "python3"
  },
  "language_info": {
   "codemirror_mode": {
    "name": "ipython",
    "version": 3
   },
   "file_extension": ".py",
   "mimetype": "text/x-python",
   "name": "python",
   "nbconvert_exporter": "python",
   "pygments_lexer": "ipython3",
   "version": "3.11.5"
  }
 },
 "nbformat": 4,
 "nbformat_minor": 5
}
