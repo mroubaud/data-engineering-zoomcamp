{
 "cells": [
  {
   "cell_type": "markdown",
   "id": "4c036963",
   "metadata": {},
   "source": [
    "## Question 1. Knowing docker tags\n",
    "Run the command to get information on Docker\n",
    "\n",
    "docker --help\n",
    "\n",
    "Now run the command to get help on the \"docker build\" command:\n",
    "\n",
    "docker build --help\n",
    "\n",
    "Do the same for \"docker run\".\n",
    "\n",
    "Which tag has the following text? - Automatically remove the container when it exits\n",
    "\n",
    "* --delete\n",
    "* --rc\n",
    "* --rmc\n",
    "* **--rm**"
   ]
  },
  {
   "cell_type": "markdown",
   "id": "948c3ff9",
   "metadata": {},
   "source": [
    "## Question 2. Understanding docker first run\n",
    "Run docker with the python:3.9 image in an interactive mode and the entrypoint of bash. Now check the python modules that are installed ( use pip list ).\n",
    "\n",
    "What is version of the package wheel ?\n",
    "\n",
    "* **0.42.0**\n",
    "* 1.0.0\n",
    "* 23.0.1\n",
    "* 58.1.0\n",
    "\n",
    "docker run -it --entrypoint /bin/bash  python:3.9"
   ]
  },
  {
   "cell_type": "markdown",
   "id": "9ed66a52",
   "metadata": {},
   "source": [
    "## Question 3. Count records\n",
    "How many taxi trips were totally made on September 18th 2019?\n",
    "\n",
    "Tip: started and finished on 2019-09-18.\n",
    "\n",
    "Remember that lpep_pickup_datetime and lpep_dropoff_datetime columns are in the format timestamp (date and hour+min+sec) and not in date.\n",
    "\n",
    "* **15767**\n",
    "* 15612\n",
    "* 15859\n",
    "* 89009\n"
   ]
  },
  {
   "cell_type": "markdown",
   "id": "a6a9c56f",
   "metadata": {},
   "source": [
    "## Question 4. Largest trip for each day\n",
    "Which was the pick up day with the largest trip distance Use the pick up time for your calculations.\n",
    "\n",
    "* 2019-09-18\n",
    "* 2019-09-16\n",
    "* 2019-09-26\n",
    "* 2019-09-21"
   ]
  },
  {
   "cell_type": "code",
   "execution_count": null,
   "id": "2696b9da",
   "metadata": {},
   "outputs": [],
   "source": []
  }
 ],
 "metadata": {
  "kernelspec": {
   "display_name": "Python 3 (ipykernel)",
   "language": "python",
   "name": "python3"
  },
  "language_info": {
   "codemirror_mode": {
    "name": "ipython",
    "version": 3
   },
   "file_extension": ".py",
   "mimetype": "text/x-python",
   "name": "python",
   "nbconvert_exporter": "python",
   "pygments_lexer": "ipython3",
   "version": "3.11.5"
  }
 },
 "nbformat": 4,
 "nbformat_minor": 5
}
